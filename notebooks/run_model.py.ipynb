{
 "cells": [
  {
   "cell_type": "code",
   "execution_count": null,
   "metadata": {},
   "outputs": [],
   "source": [
    "import re\n",
    "import gzip\n",
    "import json\n",
    "import joblib\n",
    "import itertools"
   ]
  },
  {
   "cell_type": "code",
   "execution_count": null,
   "metadata": {},
   "outputs": [],
   "source": [
    "# Load and clean/format the data\n",
    "tag_re = re.compile(r'(<!--.*?-->|<[^>]*>)')\n",
    "def remove_tags(text):\n",
    "    return tag_re.sub('', text)\n",
    "\n",
    "FILENAME = 'datasets/zenodo_open_metadata_2020-06-23.jsonl.gz'\n",
    "data = []\n",
    "labels = []\n",
    "with gzip.open(FILENAME, 'rb') as fp:\n",
    "    for l in fp:\n",
    "        r = json.loads(l)\n",
    "        data.append(((r['recid'], r['title']), r['title'] + ' ' + remove_tags(r['description'])))\n",
    "        labels.append(r['spam'])"
   ]
  },
  {
   "cell_type": "code",
   "execution_count": null,
   "metadata": {},
   "outputs": [],
   "source": [
    "# Load the model\n",
    "model = joblib.load('models/2020_06_23_reports_spam.pkl')"
   ]
  },
  {
   "cell_type": "code",
   "execution_count": null,
   "metadata": {},
   "outputs": [],
   "source": [
    "# Split data into chunks and run classifier over them\n",
    "def chunkify(n, iterable):\n",
    "    i = iter(iterable)\n",
    "    piece = tuple(itertools.islice(i, n))\n",
    "    while piece:\n",
    "        yield piece\n",
    "        piece = list(islice(i, n))\n",
    "\n",
    "results = []\n",
    "for chunk in chunkify(data, 10000):\n",
    "    records = [records for records, _ in chunk]\n",
    "    values = [value for _, value in chunk]\n",
    "    spam_results = model.predict(values)\n",
    "    spam = [r for idx, r in enumerate(records) if spam_results[idx]]\n",
    "    if spam:\n",
    "        print(len(spam))\n",
    "    results.extend(spam)\n",
    "    "
   ]
  },
  {
   "cell_type": "code",
   "execution_count": null,
   "metadata": {},
   "outputs": [],
   "source": [
    "\n",
    "# Print spam results\n",
    "for recid, title in results:\n",
    "    print(f'[{title}](https://zenodo.org/record/{recid})')"
   ]
  }
 ],
 "metadata": {
  "kernelspec": {
   "display_name": "Python 3.7.2 64-bit ('zenodo-classifier': venv)",
   "language": "python",
   "name": "python37264bitzenodoclassifiervenv75b7ba9aadf44ea7ae1f09049c868d7d"
  },
  "language_info": {
   "codemirror_mode": {
    "name": "ipython",
    "version": 3
   },
   "file_extension": ".py",
   "mimetype": "text/x-python",
   "name": "python",
   "nbconvert_exporter": "python",
   "pygments_lexer": "ipython3",
   "version": "3.7.2"
  }
 },
 "nbformat": 4,
 "nbformat_minor": 4
}