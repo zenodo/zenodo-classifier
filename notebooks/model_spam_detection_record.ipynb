{
 "cells": [
  {
   "cell_type": "markdown",
   "metadata": {},
   "source": [
    "### 0. Imports"
   ]
  },
  {
   "cell_type": "code",
   "execution_count": 2,
   "metadata": {},
   "outputs": [],
   "source": [
    "import gzip\n",
    "import json\n",
    "from collections import Counter\n",
    "import re\n",
    "import itertools\n",
    "import joblib\n",
    "from pathlib import Path\n",
    "\n",
    "from sklearn.ensemble import RandomForestClassifier, ExtraTreesClassifier\n",
    "from sklearn.feature_extraction.text import TfidfVectorizer\n",
    "from sklearn.naive_bayes import MultinomialNB\n",
    "from sklearn.model_selection import train_test_split\n",
    "from sklearn.pipeline import Pipeline"
   ]
  },
  {
   "cell_type": "markdown",
   "metadata": {},
   "source": [
    "### 1. Load the data"
   ]
  },
  {
   "cell_type": "code",
   "execution_count": null,
   "metadata": {},
   "outputs": [],
   "source": [
    "data_file = Path('datasets/zenodo_open_metadata_2020-06-23.jsonl.gz')\n",
    "data = []\n",
    "labels = []\n",
    "with gzip.open(data_file, 'rb') as fp:\n",
    "    tag_removal_regex = re.compile(r'(<!--.*?-->|<[^>]*>)')\n",
    "    for l in fp:\n",
    "        r = json.loads(l)\n",
    "        clean_description = tag_removal_regex.sub('', r['description'])\n",
    "        data.append(r['title'] + ' ' + clean_description)\n",
    "        labels.append(r['spam'])"
   ]
  },
  {
   "cell_type": "markdown",
   "metadata": {},
   "source": [
    "### 2. Train the model"
   ]
  },
  {
   "cell_type": "code",
   "execution_count": null,
   "metadata": {
    "scrolled": true,
    "tags": []
   },
   "outputs": [],
   "source": [
    "# Split dataset\n",
    "X_train, X_test, y_train, y_test = train_test_split(data, labels, test_size=0.33, random_state=422)\n",
    "\n",
    "# Random forest model\n",
    "pipeline = Pipeline([\n",
    "    (\"tfidf\", TfidfVectorizer(max_features=8000, ngram_range=(1, 1))),\n",
    "    (\"clf\", RandomForestClassifier(n_estimators=100, n_jobs=4)),\n",
    "    # (\"clf\", ExtraTreesClassifier(n_estimators=100, n_jobs=4)),\n",
    "])\n",
    "\n",
    "# NB model\n",
    "# pipeline = Pipeline([\n",
    "#     ('tfidf', TfidfVectorizer(max_features=8000, ngram_range=(1, 1))),\n",
    "#     ('clf', MultinomialNB()),\n",
    "#     # ('clf', SGDClassifier(loss='hinge', penalty='l2', alpha=1e-3, n_iter=5, random_state=42)),\n",
    "# ])\n",
    "\n",
    "# Trains the model. This might take some time (~30min)\n",
    "text_clf = pipeline.fit(X_train, y_train)"
   ]
  },
  {
   "cell_type": "markdown",
   "metadata": {},
   "source": [
    "### 3. Calculate accuracy"
   ]
  },
  {
   "cell_type": "code",
   "execution_count": null,
   "metadata": {},
   "outputs": [],
   "source": [
    "y_pred = text_clf.predict(X_test)\n",
    "acc = [(ref, pred) for ref, pred in zip(y_test, y_pred)]\n",
    "c = Counter(acc)\n",
    "print(c)\n",
    "print(\"Spam->Spam: {0:.4f}\".format(c[(True, True)] / (c[(True, True)] + c[(True, False)])))\n",
    "print(\"Ham -> Ham: {0:.4f}\".format(c[(False, False)] / (c[(False, False)] + c[(False, True)])))\n",
    "print(\"Accuracy: {0:.4f}\".format((c[(False, False)] + c[(True, True)] ) / (len(acc))))"
   ]
  },
  {
   "cell_type": "markdown",
   "metadata": {},
   "source": [
    "### 4. Dump model"
   ]
  },
  {
   "cell_type": "code",
   "execution_count": null,
   "metadata": {},
   "outputs": [],
   "source": [
    "\n",
    "models_dir = Path('models')\n",
    "joblib.dump(text_clf, models_dir / '2020_06_23_record_spam.pkl')"
   ]
  },
  {
   "cell_type": "markdown",
   "metadata": {},
   "source": [
    "### 5. Compare accuracy of old models"
   ]
  },
  {
   "cell_type": "code",
   "execution_count": null,
   "metadata": {
    "tags": []
   },
   "outputs": [],
   "source": [
    "models = [\n",
    "    '2017_06_18_record_spam.pkl',\n",
    "    '2020_06_23_record_spam.pkl',\n",
    "]\n",
    "\n",
    "for model_path in models:\n",
    "    model = joblib.load(models_dir / model_path)\n",
    "    y_pred = old_model.predict(X_test)\n",
    "    acc = [(ref, pred) for ref, pred in zip(y_test, y_pred)]\n",
    "    c = Counter(acc)\n",
    "    print(f'### Accuracy of model {model_path} for {data_file}')\n",
    "    print(c)\n",
    "    print(\"Spam->Spam: {0:.4f}\".format(c[(True, True)] / (c[(True, True)] + c[(True, False)])))\n",
    "    print(\"Ham -> Ham: {0:.4f}\".format(c[(False, False)] / (c[(False, False)] + c[(False, True)])))\n",
    "    print(\"Accuracy: {0:.4f}\".format((c[(False, False)] + c[(True, True)] ) / (len(acc))))"
   ]
  },
  {
   "cell_type": "markdown",
   "metadata": {},
   "source": [
    "#### Results\n",
    "\n",
    "##### Accuracy of model for data up to 06/03/2017\n",
    "\n",
    "Counter({(False, False): 56495, (True, True): 1652, (False, True): 140, (True, False): 38})\n",
    "\n",
    "- Spam->Spam: 0.9775\n",
    "- Ham -> Ham: 0.9975<br/>\n",
    "- Accuracy: 0.9969<br/>\n",
    "\n",
    "##### Accuracy of model for data up to 06/04/2017\n",
    "\n",
    "Counter({(False, False): 58746, (True, True): 1855, (True, False): 65, (False, True): 54})\n",
    "\n",
    "- Spam->Spam: 0.9661\n",
    "- Ham -> Ham: 0.9991\n",
    "- Accuracy: 0.9980\n",
    "\n",
    "##### Accuracy of model for data up to 17/05/2018\n",
    "\n",
    "Counter({(False, False): 133426, (True, True): 2627, (True, False): 149, (False, True): 128})\n",
    "\n",
    "- Spam->Spam: 0.9463\n",
    "- Ham -> Ham: 0.9990\n",
    "- Accuracy: 0.9980\n",
    "\n",
    "##### Accuracy of model for data up to 04/11/2019\n",
    "\n",
    "Counter({(False, False): 482380, (True, True): 3526, (False, True): 970, (True, False): 515})\n",
    "\n",
    "- Spam->Spam: 0.8726\n",
    "- Ham -> Ham: 0.9980\n",
    "- Accuracy: 0.9970\n",
    "\n",
    "##### Accuracy of model for data up to 04/11/2019 with RandomForest Model\n",
    "\n",
    "Counter({(False, False): 483307, (True, True): 3580, (True, False): 461, (False, True): 43})\n",
    "\n",
    "- Spam->Spam: 0.8859\n",
    "- Ham -> Ham: 0.9999\n",
    "- Accuracy: 0.9990\n",
    "\n",
    "##### Accuracy of model for data up to 23/06/2020 with RandomForest Model\n",
    "\n",
    "Counter({(False, False): 530887, (True, True): 4623, (True, False): 918, (False, True): 65})<br/>\n",
    "\n",
    "- Spam->Spam: 0.8343<br/>\n",
    "- Ham -> Ham: 0.9999<br/>\n",
    "- Accuracy: 0.9982<br/>\n",
    "\n",
    "##### Accuracy of model for data up to 23/06/2020 with RandomForest Model (n_estimators=100)\n",
    "\n",
    "Counter({(False, False): 530898, (True, True): 4691, (True, False): 850, (False, True): 54})\n",
    "\n",
    "- Spam->Spam: 0.8466\n",
    "- Ham -> Ham: 0.9999\n",
    "- Accuracy: 0.9983\n",
    "\n",
    "##### Accuracy of model for data up to 23/06/2020 with ExtraTreesClassifier (n_estimators=100)\n",
    "\n",
    "Counter({(False, False): 530872, (True, True): 4705, (True, False): 836, (False, True): 80})\n",
    "\n",
    "- Spam->Spam: 0.8491\n",
    "- Ham -> Ham: 0.9998\n",
    "- Accuracy: 0.9983\n",
    "\n"
   ]
  },
  {
   "cell_type": "code",
   "execution_count": null,
   "metadata": {},
   "outputs": [],
   "source": [
    "### 6. Plot results"
   ]
  },
  {
   "cell_type": "code",
   "execution_count": null,
   "metadata": {},
   "outputs": [],
   "source": [
    "import plotly.graph_objects as go\n",
    "\n",
    "class CurrentModel:\n",
    "    \n",
    "    def __init__(self, acc, spam_spam, ham_ham, name):\n",
    "        self.acc = acc\n",
    "        self.spam_spam = spam_spam\n",
    "        self.ham_ham = ham_ham\n",
    "        self.name = name\n",
    "        \n",
    "    def plot(self):\n",
    "        x = ['Acc', 'Spam', 'Ham']\n",
    "        y = [self.acc, self.spam_spam, self.ham_ham]\n",
    "        fig = go.Figure()\n",
    "        fig.add_trace(go.Histogram(\n",
    "            x=x,\n",
    "            y=y,\n",
    "            name=name\n",
    "        ))\n",
    "        fig.show()\n",
    "\n",
    "def plot_all(models):\n",
    "    x = ['Acc', 'Spam', 'Ham']\n",
    "    fig = go.Figure()\n",
    "    for model in models:\n",
    "        fig.add_trace(go.Bar(\n",
    "            x=x,\n",
    "            y=[model.acc, model.spam_spam, model.ham_ham],\n",
    "            name=model.name\n",
    "        ))\n",
    "    fig.update_yaxes(range=[0.85, 1])\n",
    "    fig.show()\n",
    "    \n",
    "model_06_03_2017 = CurrentModel(0.9969, 0.9975, 0.9991, 'data up to 06/03/2017')\n",
    "model_06_04_2017 = CurrentModel(0.9980, 0.9661, 0.9975, 'data up to 06/04/2017')\n",
    "model_17_05_2018 = CurrentModel(0.9980, 0.9463, 0.9990, 'data up to 17/05/2018')\n",
    "model_04_11_2019 = CurrentModel(0.9990, 0.8726, 0.9980, 'data up to 04/11/2019')\n",
    "model_04_11_2019_RandomForest = CurrentModel(0.9990, 0.8859, 0.9999, 'data up to 04/11/2019 <RandomForest>')\n",
    "\n",
    "models = [\n",
    "    model_06_03_2017,\n",
    "    model_06_04_2017,\n",
    "    model_17_05_2018,\n",
    "    model_04_11_2019,\n",
    "    model_04_11_2019_RandomForest\n",
    "]\n",
    "\n",
    "plot_all(models)"
   ]
  }
 ],
 "metadata": {
  "kernelspec": {
   "display_name": "Python 3.7.2 64-bit ('zenodo-classifier': venv)",
   "language": "python",
   "name": "python37264bitzenodoclassifiervenv75b7ba9aadf44ea7ae1f09049c868d7d"
  },
  "language_info": {
   "codemirror_mode": {
    "name": "ipython",
    "version": 3
   },
   "file_extension": ".py",
   "mimetype": "text/x-python",
   "name": "python",
   "nbconvert_exporter": "python",
   "pygments_lexer": "ipython3",
   "version": "3.7.2-final"
  }
 },
 "nbformat": 4,
 "nbformat_minor": 2
}